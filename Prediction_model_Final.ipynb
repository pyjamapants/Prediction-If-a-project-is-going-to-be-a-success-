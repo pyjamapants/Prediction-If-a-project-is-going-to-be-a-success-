{
 "cells": [
  {
   "cell_type": "markdown",
   "metadata": {},
   "source": [
    "# Loading Libraries"
   ]
  },
  {
   "cell_type": "code",
   "execution_count": 1,
   "metadata": {
    "collapsed": true
   },
   "outputs": [],
   "source": [
    "import numpy as np\n",
    "import pandas as pd\n",
    "pd.set_option('display.max_columns', 60)\n",
    "pd.set_option('max_colwidth', 10)\n",
    "pd.set_option('max_rows', 50)\n",
    "import matplotlib.pyplot as plt\n",
    "%matplotlib inline"
   ]
  },
  {
   "cell_type": "markdown",
   "metadata": {},
   "source": [
    "# Loading Data"
   ]
  },
  {
   "cell_type": "code",
   "execution_count": 2,
   "metadata": {
    "collapsed": true
   },
   "outputs": [],
   "source": [
    "xlsx_file = pd.ExcelFile('...new.xlsx')\n",
    "data = xlsx_file.parse('Sheet1')"
   ]
  },
  {
   "cell_type": "markdown",
   "metadata": {},
   "source": [
    "# Processing Data"
   ]
  },
  {
   "cell_type": "code",
   "execution_count": 3,
   "metadata": {},
   "outputs": [
    {
     "data": {
      "text/plain": [
       "id_project               0\n",
       "price_goal               0\n",
       "progress_percentage      0\n",
       "people_total_supprt      0\n",
       "price_total_gained       0\n",
       "start_date               0\n",
       "deadline_for_proj        0\n",
       "Period                   0\n",
       "category                 0\n",
       "province                 0\n",
       "music_style            243\n",
       "sales_method             1\n",
       "nickname                 3\n",
       "summary                  0\n",
       "title                    0\n",
       "user_id                  0\n",
       "song_list_num            0\n",
       "video_num                0\n",
       "pic_num                  0\n",
       "text_num                 0\n",
       "weibo_exist              0\n",
       "weibo_fans             427\n",
       "status_class             0\n",
       "dtype: int64"
      ]
     },
     "execution_count": 3,
     "metadata": {},
     "output_type": "execute_result"
    }
   ],
   "source": [
    "data.apply(lambda x: sum(x.isnull()))"
   ]
  },
  {
   "cell_type": "code",
   "execution_count": 4,
   "metadata": {
    "collapsed": true
   },
   "outputs": [],
   "source": [
    "data.drop(['user_id','nickname','start_date','deadline_for_proj','progress_percentage'], axis=1, inplace= True)"
   ]
  },
  {
   "cell_type": "code",
   "execution_count": 5,
   "metadata": {
    "collapsed": true
   },
   "outputs": [],
   "source": [
    "data['summary'] = data.summary.str.len()\n",
    "data['title'] = data.title.str.len()"
   ]
  },
  {
   "cell_type": "code",
   "execution_count": 6,
   "metadata": {
    "collapsed": true
   },
   "outputs": [],
   "source": [
    "province= {'北京':'Beijing',\n",
    "            '广东':'Guangdong', \n",
    "            '山西':'Shanxi', \n",
    "            '福建':'Fujian', \n",
    "            '四川':'Sichuan', \n",
    "            '江西':'Jiangxi', \n",
    "            '黑龙江':'Heilongjiang', \n",
    "            '江苏':'Jiangsu', \n",
    "            '海外':'Kaigai', \n",
    "            '上海':'Shanghai', \n",
    "            '广西':'Guangxi',\n",
    "            '宁夏':'Ningxia', \n",
    "            '辽宁':'Liaoning', \n",
    "            '河北':'Hebei', \n",
    "            '浙江':'Zhejiang', \n",
    "            '山东':'Shandong', \n",
    "            '云南':'Yunnan', \n",
    "            '河南':'Henan', \n",
    "            '台湾':'Taiwan', \n",
    "            '湖北':'Hubei', \n",
    "            '安徽':'Anhui', \n",
    "            '内蒙古':'Neimenggu',\n",
    "            '天津':'Tianjin', \n",
    "            '湖南':'Hunan', \n",
    "            '甘肃':'Gansu', \n",
    "            '重庆':'Chongqing', \n",
    "            '澳门':'Macao', \n",
    "            '陕西':'Shaanxi', \n",
    "            '青海':'Qinghai', \n",
    "            '吉林':'Jilin', \n",
    "            '海南':'Hainan', \n",
    "            '新疆': 'Xinjiang', \n",
    "            '香港':'Hong Kong',\n",
    "            '贵州':'Guizhou' }\n",
    "data['province'] = data.province.map(province)"
   ]
  },
  {
   "cell_type": "code",
   "execution_count": 7,
   "metadata": {},
   "outputs": [
    {
     "data": {
      "text/plain": [
       "Beijing         800\n",
       "Guangdong       102\n",
       "Shanghai         87\n",
       "Jiangsu          62\n",
       "Sichuan          55\n",
       "Zhejiang         48\n",
       "Shaanxi          35\n",
       "Henan            35\n",
       "Shandong         26\n",
       "Liaoning         24\n",
       "Taiwan           22\n",
       "Yunnan           21\n",
       "Hebei            20\n",
       "Tianjin          20\n",
       "Fujian           19\n",
       "Hunan            19\n",
       "Anhui            19\n",
       "Hubei            18\n",
       "Heilongjiang     17\n",
       "Chongqing        17\n",
       "Jilin            13\n",
       "Ningxia          11\n",
       "Gansu            10\n",
       "Kaigai           10\n",
       "Shanxi            9\n",
       "Jiangxi           9\n",
       "Guizhou           7\n",
       "Neimenggu         7\n",
       "Xinjiang          5\n",
       "Guangxi           4\n",
       "Hong Kong         3\n",
       "Hainan            3\n",
       "Qinghai           2\n",
       "Macao             1\n",
       "Name: province, dtype: int64"
      ]
     },
     "execution_count": 7,
     "metadata": {},
     "output_type": "execute_result"
    }
   ],
   "source": [
    "data.province.value_counts()"
   ]
  },
  {
   "cell_type": "code",
   "execution_count": 8,
   "metadata": {
    "collapsed": true
   },
   "outputs": [],
   "source": [
    "category = {'音乐出版':'Music Publishing',\n",
    "             '现场演出':'Live Performance',\n",
    "             '其他':'Other',\n",
    "             '唱片制作':'Record Production', \n",
    "             '音乐周边':'Music Related Products',\n",
    "             '音乐视频':'Music Video',\n",
    "             '音乐硬件':'Music Hardware'\n",
    "           }\n",
    "data['category'] = data.category.map(category)"
   ]
  },
  {
   "cell_type": "code",
   "execution_count": 9,
   "metadata": {},
   "outputs": [
    {
     "data": {
      "text/plain": [
       "Record Production         780\n",
       "Live Performance          305\n",
       "Music Publishing          159\n",
       "Music Related Products    139\n",
       "Other                     111\n",
       "Music Video                36\n",
       "Music Hardware             30\n",
       "Name: category, dtype: int64"
      ]
     },
     "execution_count": 9,
     "metadata": {},
     "output_type": "execute_result"
    }
   ],
   "source": [
    "data.category.value_counts()"
   ]
  },
  {
   "cell_type": "code",
   "execution_count": 10,
   "metadata": {
    "collapsed": true
   },
   "outputs": [],
   "source": [
    "music_style = {'爵士':'Jazz',\n",
    "               '摇滚':'Rocking',\n",
    "               '独立':'independent',\n",
    "               '流行':'popular', \n",
    "               '其他':'other', \n",
    "               '民谣':'ballad', \n",
    "               '世界音乐':'World music', \n",
    "               '金属':'metal', \n",
    "               '朋克':'Punk', \n",
    "               '嘻哈':'Hip-hop',\n",
    "               '电子':'electronic', \n",
    "               '布鲁斯':'Bruce', \n",
    "               '古典':'classical', \n",
    "               '实验':'experiment'}\n",
    "\n",
    "data['music_style'] = data.music_style.map(music_style)"
   ]
  },
  {
   "cell_type": "code",
   "execution_count": 11,
   "metadata": {},
   "outputs": [
    {
     "data": {
      "text/plain": [
       "Rocking        348\n",
       "popular        305\n",
       "ballad         300\n",
       "independent     85\n",
       "other           80\n",
       "Hip-hop         42\n",
       "electronic      30\n",
       "metal           30\n",
       "World music     26\n",
       "Punk            24\n",
       "Jazz            17\n",
       "classical       14\n",
       "experiment      11\n",
       "Bruce            5\n",
       "Name: music_style, dtype: int64"
      ]
     },
     "execution_count": 11,
     "metadata": {},
     "output_type": "execute_result"
    }
   ],
   "source": [
    "data.music_style.value_counts()"
   ]
  },
  {
   "cell_type": "code",
   "execution_count": 12,
   "metadata": {},
   "outputs": [
    {
     "data": {
      "text/plain": [
       "0    719\n",
       "1    250\n",
       "2    192\n",
       "3    166\n",
       "5    140\n",
       "4     91\n",
       "6      2\n",
       "Name: song_list_num, dtype: int64"
      ]
     },
     "execution_count": 12,
     "metadata": {},
     "output_type": "execute_result"
    }
   ],
   "source": [
    "data.song_list_num.value_counts()"
   ]
  },
  {
   "cell_type": "code",
   "execution_count": 13,
   "metadata": {},
   "outputs": [
    {
     "data": {
      "text/plain": [
       "2.0    1298\n",
       "1.0     261\n",
       "Name: sales_method, dtype: int64"
      ]
     },
     "execution_count": 13,
     "metadata": {},
     "output_type": "execute_result"
    }
   ],
   "source": [
    "data.sales_method.value_counts()"
   ]
  },
  {
   "cell_type": "code",
   "execution_count": 14,
   "metadata": {
    "scrolled": true
   },
   "outputs": [
    {
     "data": {
      "text/plain": [
       "id_project               0\n",
       "price_goal               0\n",
       "people_total_supprt      0\n",
       "price_total_gained       0\n",
       "Period                   0\n",
       "category                 0\n",
       "province                 0\n",
       "music_style            243\n",
       "sales_method             1\n",
       "summary                  0\n",
       "title                    0\n",
       "song_list_num            0\n",
       "video_num                0\n",
       "pic_num                  0\n",
       "text_num                 0\n",
       "weibo_exist              0\n",
       "weibo_fans             427\n",
       "status_class             0\n",
       "dtype: int64"
      ]
     },
     "execution_count": 14,
     "metadata": {},
     "output_type": "execute_result"
    }
   ],
   "source": [
    "data.isnull().sum()"
   ]
  },
  {
   "cell_type": "code",
   "execution_count": 15,
   "metadata": {
    "collapsed": true
   },
   "outputs": [],
   "source": [
    "data['weibo_fans']=data['weibo_fans'].fillna(data['weibo_fans'].mean())"
   ]
  },
  {
   "cell_type": "code",
   "execution_count": 16,
   "metadata": {},
   "outputs": [
    {
     "name": "stderr",
     "output_type": "stream",
     "text": [
      "C:\\Users\\Bewo Technologies\\Anaconda3\\lib\\site-packages\\scipy\\stats\\stats.py:253: RuntimeWarning: The input array could not be properly checked for nan values. nan values will be ignored.\n",
      "  \"values. nan values will be ignored.\", RuntimeWarning)\n"
     ]
    },
    {
     "data": {
      "text/plain": [
       "0"
      ]
     },
     "execution_count": 16,
     "metadata": {},
     "output_type": "execute_result"
    }
   ],
   "source": [
    "#Imputing missing in music style based on modes of music styles in each category\n",
    "from scipy.stats import mode\n",
    "music_style_mode=data.dropna().pivot_table(values='music_style', columns='category',aggfunc=(lambda x: mode(x).mode[0]))\n",
    "miss_boolean= data['music_style'].isnull()\n",
    "data.loc[miss_boolean,'music_style']= data.loc[miss_boolean,'category'].apply(lambda x: music_style_mode[x])\n",
    "sum(data['music_style'].isnull())"
   ]
  },
  {
   "cell_type": "code",
   "execution_count": 17,
   "metadata": {},
   "outputs": [
    {
     "data": {
      "text/plain": [
       "id_project             0\n",
       "price_goal             0\n",
       "people_total_supprt    0\n",
       "price_total_gained     0\n",
       "Period                 0\n",
       "category               0\n",
       "province               0\n",
       "music_style            0\n",
       "sales_method           1\n",
       "summary                0\n",
       "title                  0\n",
       "song_list_num          0\n",
       "video_num              0\n",
       "pic_num                0\n",
       "text_num               0\n",
       "weibo_exist            0\n",
       "weibo_fans             0\n",
       "status_class           0\n",
       "dtype: int64"
      ]
     },
     "execution_count": 17,
     "metadata": {},
     "output_type": "execute_result"
    }
   ],
   "source": [
    "data.apply(lambda x: sum(x.isnull()))"
   ]
  },
  {
   "cell_type": "code",
   "execution_count": 18,
   "metadata": {
    "collapsed": true
   },
   "outputs": [],
   "source": [
    "data.music_style.fillna(0, inplace= True)\n",
    "#data.weibo_fans.fillna(0, inplace=True)"
   ]
  },
  {
   "cell_type": "code",
   "execution_count": 19,
   "metadata": {
    "collapsed": true
   },
   "outputs": [],
   "source": [
    "data.dropna(axis=0, inplace=True)"
   ]
  },
  {
   "cell_type": "code",
   "execution_count": 20,
   "metadata": {
    "collapsed": true
   },
   "outputs": [],
   "source": [
    "tgt = {'project-over':0,\n",
    " 'project-succeed':1}\n",
    "\n",
    "data['status_class'] = data.status_class.map(tgt)"
   ]
  },
  {
   "cell_type": "code",
   "execution_count": 21,
   "metadata": {},
   "outputs": [
    {
     "data": {
      "text/plain": [
       "0    944\n",
       "1    615\n",
       "Name: status_class, dtype: int64"
      ]
     },
     "execution_count": 21,
     "metadata": {},
     "output_type": "execute_result"
    }
   ],
   "source": [
    "data.status_class.value_counts()"
   ]
  },
  {
   "cell_type": "markdown",
   "metadata": {},
   "source": [
    "# Model Building"
   ]
  },
  {
   "cell_type": "markdown",
   "metadata": {},
   "source": [
    "#### Convert categorical into dummies"
   ]
  },
  {
   "cell_type": "code",
   "execution_count": 22,
   "metadata": {
    "collapsed": true
   },
   "outputs": [],
   "source": [
    "category_dummies = pd.get_dummies(data['category'], prefix= 'Category')"
   ]
  },
  {
   "cell_type": "code",
   "execution_count": 23,
   "metadata": {
    "collapsed": true
   },
   "outputs": [],
   "source": [
    "province_dummies = pd.get_dummies(data['province'], prefix= 'Province')"
   ]
  },
  {
   "cell_type": "code",
   "execution_count": 24,
   "metadata": {
    "collapsed": true
   },
   "outputs": [],
   "source": [
    "music_style_dummies = pd.get_dummies(data['music_style'], prefix= 'M_Style')"
   ]
  },
  {
   "cell_type": "code",
   "execution_count": 25,
   "metadata": {
    "collapsed": true
   },
   "outputs": [],
   "source": [
    "data.drop(['category','province','music_style'], axis=1, inplace= True)"
   ]
  },
  {
   "cell_type": "code",
   "execution_count": 27,
   "metadata": {
    "collapsed": true
   },
   "outputs": [],
   "source": [
    "final = pd.concat([data,category_dummies, province_dummies, music_style_dummies],axis=1)"
   ]
  },
  {
   "cell_type": "code",
   "execution_count": 28,
   "metadata": {
    "collapsed": true
   },
   "outputs": [],
   "source": [
    "final.drop(['Category_Music Hardware','Province_Macao','M_Style_Bruce','price_total_gained','people_total_supprt'], axis=1, inplace= True)"
   ]
  },
  {
   "cell_type": "code",
   "execution_count": 29,
   "metadata": {
    "collapsed": true
   },
   "outputs": [],
   "source": [
    "labels = final.status_class.values"
   ]
  },
  {
   "cell_type": "code",
   "execution_count": 30,
   "metadata": {},
   "outputs": [
    {
     "data": {
      "text/plain": [
       "Index(['price_goal', 'Period', 'sales_method', 'summary', 'title',\n",
       "       'song_list_num', 'video_num', 'pic_num', 'text_num', 'weibo_exist',\n",
       "       'weibo_fans', 'Category_Live Performance', 'Category_Music Publishing',\n",
       "       'Category_Music Related Products', 'Category_Music Video',\n",
       "       'Category_Other', 'Category_Record Production', 'Province_Anhui',\n",
       "       'Province_Beijing', 'Province_Chongqing', 'Province_Fujian',\n",
       "       'Province_Gansu', 'Province_Guangdong', 'Province_Guangxi',\n",
       "       'Province_Guizhou', 'Province_Hainan', 'Province_Hebei',\n",
       "       'Province_Heilongjiang', 'Province_Henan', 'Province_Hong Kong',\n",
       "       'Province_Hubei', 'Province_Hunan', 'Province_Jiangsu',\n",
       "       'Province_Jiangxi', 'Province_Jilin', 'Province_Kaigai',\n",
       "       'Province_Liaoning', 'Province_Neimenggu', 'Province_Ningxia',\n",
       "       'Province_Qinghai', 'Province_Shaanxi', 'Province_Shandong',\n",
       "       'Province_Shanghai', 'Province_Shanxi', 'Province_Sichuan',\n",
       "       'Province_Taiwan', 'Province_Tianjin', 'Province_Xinjiang',\n",
       "       'Province_Yunnan', 'Province_Zhejiang', 'M_Style_Hip-hop',\n",
       "       'M_Style_Jazz', 'M_Style_Punk', 'M_Style_Rocking',\n",
       "       'M_Style_World music', 'M_Style_ballad', 'M_Style_classical',\n",
       "       'M_Style_electronic', 'M_Style_experiment', 'M_Style_independent',\n",
       "       'M_Style_metal', 'M_Style_other', 'M_Style_popular'],\n",
       "      dtype='object')"
      ]
     },
     "execution_count": 30,
     "metadata": {},
     "output_type": "execute_result"
    }
   ],
   "source": [
    "features = final.drop(['status_class','id_project'], axis=1)\n",
    "features.columns"
   ]
  },
  {
   "cell_type": "markdown",
   "metadata": {},
   "source": [
    "## Scaling"
   ]
  },
  {
   "cell_type": "code",
   "execution_count": 31,
   "metadata": {
    "collapsed": true
   },
   "outputs": [],
   "source": [
    "from sklearn.preprocessing import  StandardScaler"
   ]
  },
  {
   "cell_type": "code",
   "execution_count": 32,
   "metadata": {
    "collapsed": true
   },
   "outputs": [],
   "source": [
    "features_scaled = StandardScaler().fit_transform(features)"
   ]
  },
  {
   "cell_type": "code",
   "execution_count": 49,
   "metadata": {
    "collapsed": true
   },
   "outputs": [],
   "source": [
    "from sklearn.model_selection import train_test_split\n",
    "X_train, X_test, y_train, y_test = train_test_split(features_scaled, labels, test_size=0.20, random_state=25)"
   ]
  },
  {
   "cell_type": "code",
   "execution_count": 50,
   "metadata": {},
   "outputs": [
    {
     "name": "stdout",
     "output_type": "stream",
     "text": [
      "(1247, 63)\n",
      "(1247,)\n",
      "(312, 63)\n",
      "(312,)\n"
     ]
    }
   ],
   "source": [
    "print(X_train.shape)\n",
    "print(y_train.shape)\n",
    "\n",
    "print(X_test.shape)\n",
    "print(y_test.shape)"
   ]
  },
  {
   "cell_type": "code",
   "execution_count": null,
   "metadata": {
    "collapsed": true
   },
   "outputs": [],
   "source": []
  },
  {
   "cell_type": "raw",
   "metadata": {},
   "source": []
  },
  {
   "cell_type": "markdown",
   "metadata": {},
   "source": [
    "# Model 1) Support vector machine"
   ]
  },
  {
   "cell_type": "code",
   "execution_count": 51,
   "metadata": {},
   "outputs": [
    {
     "name": "stdout",
     "output_type": "stream",
     "text": [
      "R^2 on training set: 0.665597\n",
      "R^2 on testing set: 0.612179\n"
     ]
    }
   ],
   "source": [
    "from sklearn.svm import LinearSVC\n",
    "\n",
    "linear_svc = LinearSVC(loss=\"hinge\").fit(X_train, y_train)\n",
    "\n",
    "\n",
    "print(\"R^2 on training set: %f\" % linear_svc.score(X_train, y_train))\n",
    "print(\"R^2 on testing set: %f\" % linear_svc.score(X_test, y_test))"
   ]
  },
  {
   "cell_type": "code",
   "execution_count": 52,
   "metadata": {},
   "outputs": [
    {
     "data": {
      "image/png": "[encoded data removed]",
      "text/plain": [
       "<matplotlib.figure.Figure at 0x1d66fdf86a0>"
      ]
     },
     "metadata": {},
     "output_type": "display_data"
    }
   ],
   "source": [
    "feature_importances = pd.Series(linear_svc.coef_.ravel(), index=features.columns)\n",
    "feature_importances = feature_importances.abs().sort_values(ascending=False)\n",
    "feature_importances[:15].plot(kind=\"barh\", figsize=(7,6));"
   ]
  },
  {
   "cell_type": "code",
   "execution_count": 53,
   "metadata": {},
   "outputs": [
    {
     "name": "stdout",
     "output_type": "stream",
     "text": [
      "                 precision    recall  f1-score   support\n",
      "\n",
      "   project-over       0.63      0.89      0.74       189\n",
      "project-succeed       0.52      0.19      0.28       123\n",
      "\n",
      "    avg / total       0.59      0.61      0.55       312\n",
      "\n"
     ]
    }
   ],
   "source": [
    "# CLASSIFICATIN REPORT\n",
    "from sklearn.metrics import classification_report\n",
    "y_pred = linear_svc.predict(X_test)\n",
    "print(classification_report(y_test, y_pred, target_names=[\"project-over\",\"project-succeed\"]))"
   ]
  },
  {
   "cell_type": "markdown",
   "metadata": {},
   "source": [
    "# Model 2) Logistic Regression"
   ]
  },
  {
   "cell_type": "code",
   "execution_count": 54,
   "metadata": {},
   "outputs": [
    {
     "name": "stdout",
     "output_type": "stream",
     "text": [
      "R^2 on training set: 0.663994\n",
      "R^2 on testing set: 0.605769\n"
     ]
    }
   ],
   "source": [
    "from sklearn.linear_model import LogisticRegression\n",
    "lr = LogisticRegression(C=100, class_weight=None, dual=False, fit_intercept=True,\n",
    "          intercept_scaling=1, max_iter=100, multi_class='ovr', n_jobs=1,\n",
    "          penalty='l1', random_state=None, solver='liblinear', tol=0.0001,\n",
    "          verbose=0, warm_start=False)  \n",
    "lr.fit(X_train, y_train)\n",
    "\n",
    "print(\"R^2 on training set: %f\" % lr.score(X_train, y_train))\n",
    "print(\"R^2 on testing set: %f\" % lr.score(X_test, y_test))"
   ]
  },
  {
   "cell_type": "code",
   "execution_count": 55,
   "metadata": {},
   "outputs": [
    {
     "data": {
      "image/png": "[encoded data removed]",
      "text/plain": [
       "<matplotlib.figure.Figure at 0x1d672259390>"
      ]
     },
     "metadata": {},
     "output_type": "display_data"
    }
   ],
   "source": [
    "feature_importances = pd.Series(lr.coef_.ravel(), index=features.columns)\n",
    "feature_importances = feature_importances.abs().sort_values(ascending=False)\n",
    "feature_importances[:15].plot(kind=\"barh\", figsize=(7,6));"
   ]
  },
  {
   "cell_type": "markdown",
   "metadata": {},
   "source": [
    "# Model 3) Random Forest"
   ]
  },
  {
   "cell_type": "markdown",
   "metadata": {},
   "source": [
    "### Random forest is the choosen algorithm for the final prediction as we have observed highest prediction accuracy with this algorithm among all the others."
   ]
  },
  {
   "cell_type": "code",
   "execution_count": 56,
   "metadata": {},
   "outputs": [
    {
     "name": "stdout",
     "output_type": "stream",
     "text": [
      "Training Score 1.0\n",
      "testing Score 0.676282051282\n"
     ]
    }
   ],
   "source": [
    "from sklearn.ensemble import RandomForestClassifier\n",
    "from sklearn import grid_search\n",
    "\n",
    "rf = RandomForestClassifier(n_estimators=400, n_jobs=-1)\n",
    "parameters = {'max_features':['sqrt', 'log2'],\n",
    "              'max_depth':[4,6]}\n",
    "\n",
    "clf_grid = grid_search.GridSearchCV(rf, parameters)\n",
    "clf_grid.fit(X_train, y_train)\n",
    "rf.fit(X_train, y_train)\n",
    "print('Training Score',rf.score(X_train, y_train))\n",
    "print('testing Score',rf.score(X_test, y_test))"
   ]
  },
  {
   "cell_type": "code",
   "execution_count": 57,
   "metadata": {},
   "outputs": [
    {
     "name": "stdout",
     "output_type": "stream",
     "text": [
      "{'max_depth': 6, 'max_features': 'sqrt'}\n"
     ]
    }
   ],
   "source": [
    "print (clf_grid.best_params_)"
   ]
  },
  {
   "cell_type": "code",
   "execution_count": 58,
   "metadata": {},
   "outputs": [
    {
     "data": {
      "text/plain": [
       "RandomForestClassifier(bootstrap=True, class_weight=None, criterion='gini',\n",
       "            max_depth=6, max_features='sqrt', max_leaf_nodes=None,\n",
       "            min_impurity_split=1e-07, min_samples_leaf=1,\n",
       "            min_samples_split=2, min_weight_fraction_leaf=0.0,\n",
       "            n_estimators=100, n_jobs=-1, oob_score=False,\n",
       "            random_state=None, verbose=0, warm_start=False)"
      ]
     },
     "execution_count": 58,
     "metadata": {},
     "output_type": "execute_result"
    }
   ],
   "source": [
    "rf = RandomForestClassifier(n_estimators=100, n_jobs=-1, max_depth=6,max_features='sqrt')\n",
    "rf.fit(X_train, y_train)"
   ]
  },
  {
   "cell_type": "code",
   "execution_count": 59,
   "metadata": {
    "scrolled": false
   },
   "outputs": [
    {
     "data": {
      "image/png": "[encoded data removed]",
      "text/plain": [
       "<matplotlib.figure.Figure at 0x1d6723e2f98>"
      ]
     },
     "metadata": {},
     "output_type": "display_data"
    }
   ],
   "source": [
    "#Feature Importance\n",
    "feature_importances = pd.Series(rf.feature_importances_.ravel(), index=features.columns)\n",
    "feature_importances = feature_importances.abs().sort_values(ascending=False)\n",
    "feature_importances[:15].plot(kind=\"barh\", figsize=(7,6));"
   ]
  },
  {
   "cell_type": "code",
   "execution_count": 65,
   "metadata": {
    "collapsed": true
   },
   "outputs": [],
   "source": [
    "final['status_class_PREDICTED'] = rf.predict(features_scaled)\n",
    "final.to_csv('C:/zhe/binary_prediction/Output20170904.csv', index= False)"
   ]
  },
  {
   "cell_type": "code",
   "execution_count": 60,
   "metadata": {},
   "outputs": [
    {
     "name": "stdout",
     "output_type": "stream",
     "text": [
      "                 precision    recall  f1-score   support\n",
      "\n",
      "   project-over       0.63      0.98      0.77       189\n",
      "project-succeed       0.83      0.12      0.21       123\n",
      "\n",
      "    avg / total       0.71      0.64      0.55       312\n",
      "\n"
     ]
    }
   ],
   "source": [
    "# CLASSIFICATIN REPORT\n",
    "rf.fit(X_train, y_train)\n",
    "from sklearn.metrics import classification_report\n",
    "y_pred = rf.predict(X_test)\n",
    "print(classification_report(y_test, y_pred, target_names=[\"project-over\",\"project-succeed\"]))"
   ]
  },
  {
   "cell_type": "markdown",
   "metadata": {},
   "source": [
    "# Model 4) Decision Tree"
   ]
  },
  {
   "cell_type": "code",
   "execution_count": 61,
   "metadata": {},
   "outputs": [
    {
     "name": "stdout",
     "output_type": "stream",
     "text": [
      "Training Score 0.662389735365\n",
      "testing Score 0.599358974359\n"
     ]
    }
   ],
   "source": [
    "from sklearn.tree import DecisionTreeClassifier\n",
    "from sklearn import grid_search\n",
    "\n",
    "dt = DecisionTreeClassifier()\n",
    "parameters = {'max_features':['sqrt', 'log2'],\n",
    "              'max_depth':[4,6,8]}\n",
    "\n",
    "clf_grid = grid_search.GridSearchCV(dt, parameters)\n",
    "clf_grid.fit(X_train, y_train)\n",
    "\n",
    "print('Training Score',clf_grid.score(X_train, y_train))\n",
    "print('testing Score',clf_grid.score(X_test, y_test))"
   ]
  },
  {
   "cell_type": "code",
   "execution_count": 62,
   "metadata": {},
   "outputs": [
    {
     "data": {
      "image/png": "[encoded data removed]",
      "text/plain": [
       "<matplotlib.figure.Figure at 0x1d67241ab00>"
      ]
     },
     "metadata": {},
     "output_type": "display_data"
    }
   ],
   "source": [
    "dt.fit(X_train, y_train)\n",
    "feature_importances = pd.Series(dt.feature_importances_.ravel(), index=features.columns)\n",
    "feature_importances = feature_importances.abs().sort_values(ascending=False)\n",
    "feature_importances[:15].plot(kind=\"barh\", figsize=(7,6));"
   ]
  },
  {
   "cell_type": "code",
   "execution_count": 63,
   "metadata": {},
   "outputs": [
    {
     "name": "stdout",
     "output_type": "stream",
     "text": [
      "                 precision    recall  f1-score   support\n",
      "\n",
      "   project-over       0.66      0.66      0.66       189\n",
      "project-succeed       0.48      0.49      0.48       123\n",
      "\n",
      "    avg / total       0.59      0.59      0.59       312\n",
      "\n"
     ]
    }
   ],
   "source": [
    "# CLASSIFICATIN REPORT\n",
    "rf.fit(X_train, y_train)\n",
    "from sklearn.metrics import classification_report\n",
    "y_pred = dt.predict(X_test)\n",
    "print(classification_report(y_test, y_pred, target_names=[\"project-over\",\"project-succeed\"]))"
   ]
  },
  {
   "cell_type": "markdown",
   "metadata": {},
   "source": [
    "# Algorithm Comparison"
   ]
  },
  {
   "cell_type": "code",
   "execution_count": 64,
   "metadata": {},
   "outputs": [
    {
     "name": "stdout",
     "output_type": "stream",
     "text": [
      "LR: 0.630303 (0.036166)\n",
      "RF: 0.633510 (0.035843)\n",
      "SVC: 0.627910 (0.037241)\n",
      "DT: 0.591794 (0.025053)\n"
     ]
    },
    {
     "data": {
      "image/png": "[encoded data removed]",
      "text/plain": [
       "<matplotlib.figure.Figure at 0x1d6722637b8>"
      ]
     },
     "metadata": {},
     "output_type": "display_data"
    }
   ],
   "source": [
    "from sklearn import model_selection\n",
    "models = []\n",
    "models.append(('LR', LogisticRegression()))\n",
    "models.append(('RF', RandomForestClassifier()))\n",
    "models.append(('SVC', LinearSVC()))\n",
    "models.append(('DT', DecisionTreeClassifier()))\n",
    "# evaluate each model in turn\n",
    "results = []\n",
    "names = []\n",
    "scoring = 'accuracy'\n",
    "for name, model in models:\n",
    "    kfold = model_selection.KFold(n_splits=10, random_state=7)\n",
    "    cv_results = model_selection.cross_val_score(model, X_train, y_train, cv=kfold, scoring=scoring)\n",
    "    results.append(cv_results)\n",
    "    names.append(name)\n",
    "    msg = \"%s: %f (%f)\" % (name, cv_results.mean(), cv_results.std())\n",
    "    print(msg)\n",
    "# boxplot algorithm comparison\n",
    "fig = plt.figure()\n",
    "fig.suptitle('Algorithm Comparison')\n",
    "ax = fig.add_subplot(111)\n",
    "plt.boxplot(results)\n",
    "ax.set_xticklabels(names)\n",
    "plt.show()"
   ]
  },
  {
   "cell_type": "code",
   "execution_count": null,
   "metadata": {
    "collapsed": true
   },
   "outputs": [],
   "source": []
  }
 ],
 "metadata": {
  "kernelspec": {
   "display_name": "Python 3",
   "language": "python",
   "name": "python3"
  },
  "language_info": {
   "codemirror_mode": {
    "name": "ipython",
    "version": 3
   },
   "file_extension": ".py",
   "mimetype": "text/x-python",
   "name": "python",
   "nbconvert_exporter": "python",
   "pygments_lexer": "ipython3",
   "version": "3.6.1"
  }
 },
 "nbformat": 4,
 "nbformat_minor": 2
}
